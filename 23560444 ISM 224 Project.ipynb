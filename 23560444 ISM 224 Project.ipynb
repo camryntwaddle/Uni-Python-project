{
 "cells": [
  {
   "cell_type": "markdown",
   "id": "b730f1e0",
   "metadata": {},
   "source": [
    "# Section A"
   ]
  },
  {
   "cell_type": "code",
   "execution_count": null,
   "id": "fb0d15ae",
   "metadata": {},
   "outputs": [],
   "source": [
    "!pip install omdb"
   ]
  },
  {
   "cell_type": "code",
   "execution_count": null,
   "id": "6eebdc61",
   "metadata": {},
   "outputs": [],
   "source": [
    "import omdb\n",
    "apiKey = '62435c4d'\n",
    "omdb.set_default('apikey', apiKey)"
   ]
  },
  {
   "cell_type": "code",
   "execution_count": null,
   "id": "98857bab",
   "metadata": {},
   "outputs": [],
   "source": [
    "from IPython.display import HTML as html_print #IPython is library for formatting in JN\n",
    "from IPython.display import display #module from library"
   ]
  },
  {
   "cell_type": "code",
   "execution_count": null,
   "id": "a4f3b0af",
   "metadata": {},
   "outputs": [],
   "source": [
    "def colour_set(s, color='black'): #use functions from ipython.display to change colour\n",
    "    return \"<text style=color:{}>{}</text>\".format(color, s)\n",
    "\n",
    "def print_colour(t):\n",
    "    display(html_print(' '.join([colour_set(ti, color=ci) for ti,ci in t])))"
   ]
  },
  {
   "cell_type": "code",
   "execution_count": null,
   "id": "64a13f8c",
   "metadata": {},
   "outputs": [],
   "source": [
    "def movie_search(movie, number):#get movie title and send it to database #recall info and write to text file\n",
    "    try:\n",
    "        movie_info = omdb.get(title = movie)\n",
    "        wanted_title = movie_info[\"title\"]\n",
    "        if number == \"1\": #add number so that result doesnt print twice (must not print when checking)\n",
    "            search_history = open('SearchHistorys.txt','a')\n",
    "            search_history.write(str( '\\033[1m' + wanted_title + '\\033[0m') + \"\\n\") #add title on its own line\n",
    "            search_history.write('Year: ' + str(movie_info['year'])+ \", \"\n",
    "                                 'Rated: '+ str(movie_info['rated']) + \", \"\n",
    "                                 'Released: ' + str(movie_info['released']) + \", \"\n",
    "                                 'Runtime: '+ str(movie_info['runtime']) + \", \"\n",
    "                                 'Genre: ' + str(movie_info['genre']) + \", \"\n",
    "                                 'Director: '+ str(movie_info['director'])+ \", \"\n",
    "                                 'Writer: ' + str(movie_info['writer']) + \", \"\n",
    "                                 'Actors: ' + str(movie_info['actors']) + \", \"\n",
    "                                 'Plot: '+ str(movie_info['plot']) + \", \"\n",
    "                                 'Language: ' + str(movie_info['language']) + \", \"\n",
    "                                 'Country: ' + str(movie_info['country']) + \", \"\n",
    "                                 'Awards: '+ str(movie_info['awards']) + \", \"\n",
    "                                 'IMDB_ID: ' + str(movie_info['imdb_id']) + \", \"\n",
    "                                 'Poster: ' + str(movie_info['poster']) + \", \"\n",
    "                                 'Ratings: '+ str(movie_info['ratings']) + \"\\n\") #adds rest of JSON\n",
    "            search_history.close()\n",
    "            print_colour(((\"Title: \",'DarkGoldenRod'), (movie_info['title'], 'black'),))\n",
    "            print_colour((( \"Year: \", 'DarkGoldenRod'), (movie_info['year'], 'black'),))\n",
    "            print_colour(((\"Rated: \", 'DarkGoldenRod'), (movie_info['rated'], 'black'),))\n",
    "            print_colour(((\"Runtime: \",'DarkGoldenRod'), (movie_info['runtime'], 'black'),))\n",
    "            print_colour(((\"Genre: \", 'DarkGoldenRod'), (movie_info['genre'], 'black'),))\n",
    "            print_colour(((\"Director: \",'DarkGoldenRod'), (movie_info['director'], 'black'),))\n",
    "            print_colour(((\"Plot: \", 'DarkGoldenRod'), (movie_info['plot'], 'black'),)) \n",
    "        return True\n",
    "    except:\n",
    "        return False"
   ]
  },
  {
   "cell_type": "code",
   "execution_count": null,
   "id": "cb39e4bc",
   "metadata": {},
   "outputs": [],
   "source": [
    "def specific_info(movie_info_specific): #user specifies one specific key that want to know\n",
    "    movie_info = omdb.get(title = new_movie)\n",
    "    print_colour(((movie_info_specific + \": \",'DarkGoldenRod'), (movie_info[movie_info_specific], 'black'),))"
   ]
  },
  {
   "cell_type": "code",
   "execution_count": null,
   "id": "851cf13c",
   "metadata": {},
   "outputs": [],
   "source": [
    "def show_history(): #return search history from text file to the user\n",
    "    history = open('SearchHistorys.txt','r')\n",
    "    open_history = history.read()\n",
    "    display_history = (open_history)\n",
    "    print(display_history)\n",
    "    history.close()"
   ]
  },
  {
   "cell_type": "code",
   "execution_count": null,
   "id": "6966a4ec",
   "metadata": {},
   "outputs": [],
   "source": [
    "def show_history_titles(): #used to display only the titles of movies searched\n",
    "    history = open('SearchHistorys.txt', 'r')\n",
    "    content = history.readlines()\n",
    "    if len(content) > 0:\n",
    "        print_colour((('You have already searched for: ','brown'),))\n",
    "    for i in range(0, len(content)):\n",
    "        if(i % 2 == 0):\n",
    "            print(str(content[i]).strip())\n",
    "        else:\n",
    "            pass"
   ]
  },
  {
   "cell_type": "code",
   "execution_count": null,
   "id": "33641acc",
   "metadata": {},
   "outputs": [],
   "source": [
    "def clear_history(): #use to clear history and therefore text file\n",
    "    clear_historys = open('SearchHistorys.txt','w')\n",
    "    clear_historys.close()"
   ]
  },
  {
   "cell_type": "code",
   "execution_count": null,
   "id": "12ad6ccf",
   "metadata": {},
   "outputs": [],
   "source": [
    "#Main method of program\n",
    "\n",
    "print(str('\\033[1m' + \"Welcome to Movie Search!\" + '\\033[0m').strip())\n",
    "print_colour(((\"Type\",'black'), (\"'EX'\",'DarkCyan'),(\"at any time to close this program and\",'black'),(\"'CH'\",'DarkCyan'),(\"to clear your search history.\",'black'),))\n",
    "\n",
    "show_history_titles()\n",
    "\n",
    "while True: #loop stops program from running before user is done with it\n",
    "    real = True\n",
    "    movie = str(input(\"Would you like to search for a new movie? (YES/NO): \")).upper()\n",
    "    if movie == \"YES\":\n",
    "        new_movie = str(input(\"What movie are you looking for: \")).title()\n",
    "        \n",
    "        if new_movie == \"Ch\":\n",
    "            display(html_print(\"\\n\" + \"Your history has been cleared.\" + \"\\n\"))\n",
    "            clear_history()\n",
    "            continue #not out of loop just yet\n",
    "        elif new_movie == \"Ex\":\n",
    "            display(html_print(\"Thank your for using Movie Search!\"))\n",
    "            break #breaks out of loop and basically finished program\n",
    "        elif movie_search(new_movie, \"0\"): #this is to check if the movie is real or not\n",
    "            movie_search(new_movie, \"1\")\n",
    "        else:\n",
    "            display(html_print(\"Please search for a real movie.\" + \"\\n\"))\n",
    "            real = False\n",
    "            \n",
    "       #movie_search(new_movie) \n",
    "        if real:\n",
    "            movie_specific = str(input(\"Would you like to know something specific about \" + new_movie + \"? (YES/NO):\")).upper()\n",
    "        \n",
    "            if movie_specific == \"YES\":\n",
    "                movie_info_specific = str(input(\"What would you like to know about this movie? \")).lower()\n",
    "                if movie_info_specific == \"ch\":\n",
    "                    display(html_print(\"\\n\" + \"Your history has been cleared.\" + \"\\n\"))\n",
    "                    clear_history() \n",
    "                elif movie_info_specific == \"ex\":\n",
    "                    display(html_print(\"Thank you for using Movie Search!\"))\n",
    "                    break #breaks out of loop and stops program from running again\n",
    "                else:\n",
    "                    try: #avoids an error message when user doesnt input a recognised string\n",
    "                        movie_info_specific =='title'\n",
    "                        movie_info_specific == 'year'\n",
    "                        movie_info_specific == 'imdb_id'\n",
    "                        movie_info_specific == 'poster'\n",
    "                        movie_info_specific == 'rated'\n",
    "                        movie_info_specific == 'released'\n",
    "                        movie_info_specific == 'runtime'\n",
    "                        movie_info_specific == 'genre'\n",
    "                        movie_info_specific == 'director'\n",
    "                        movie_info_specific == 'actors'\n",
    "                        movie_info_specific == 'plot'\n",
    "                        movie_info_specific == 'language'\n",
    "                        movie_info_specific == 'awards'\n",
    "                        movie_info_specific == 'writer'\n",
    "                        movie_info_specific == 'country'\n",
    "                        movie_info_specific == 'ratings'\n",
    "                        specific_info(movie_info_specific)  \n",
    "                    except:\n",
    "                        display(html_print(\"\\n\" + 'Please enter a valid search requirement: (title, year, type, rated, poster, etc)' + \"\\n\"))\n",
    "\n",
    "\n",
    "            elif movie_specific == \"NO\":\n",
    "                display(html_print(\"\\n\" + \"Thank you for using Movie Search!\" + \"\\n\"))\n",
    "                \n",
    "            elif movie_specific == \"CH\":\n",
    "                display(html_print(\"\\n\" + \"Your history has been cleared.\" + \"\\n\"))\n",
    "                clear_history()\n",
    "                \n",
    "            elif movie_specific == \"EX\":\n",
    "                display(html_print(\"Thank you for using Movie Search!\"))\n",
    "                break\n",
    "            else:\n",
    "                display(html_print(\"\\n\" + \"Please enter Yes or No.\" + \"\\n\"))\n",
    "                \n",
    "    elif movie == \"NO\":\n",
    "        history = open('SearchHistorys.txt', 'r')\n",
    "        content = history.readlines()\n",
    "        if len(content) > 0: #checks if the search history text file is blank or not\n",
    "            display(html_print(\"\\n\" + \"Here is your search history: \" + \"\\n\"))\n",
    "            show_history()\n",
    "        else:\n",
    "            display(html_print(\"\\n\" + \"You do not have a search history yet. Try searching for a new movie! \" + \"\\n\"))\n",
    "      \n",
    "    elif movie == \"CH\":\n",
    "        display(html_print(\"\\n\" + \"Your history has been cleared.\" + \"\\n\"))\n",
    "        clear_history()\n",
    "    elif movie == \"EX\":\n",
    "        display(html_print(\"Thank your for using Movie Search!\"))\n",
    "        break\n",
    "        \n",
    "    else:\n",
    "        display(html_print(\"\\n\" + \"Please enter Yes or No.\" + \"\\n\"))  "
   ]
  },
  {
   "cell_type": "markdown",
   "id": "a5cfb201",
   "metadata": {},
   "source": [
    "# Section B\n",
    "This project tasked us with coding a program in Python that enables the user to ask for and recieve information about movies. The program had to integrate most of the techniques explored throughout the course. There were two ways we could create this program. The first method invloved using the Open Movie Database API, while the second method  invloved making use of IMDB and the BeautifulSoup library for web scrapping.\n",
    "I chose to follow the first method, using the OMDb API."
   ]
  },
  {
   "cell_type": "markdown",
   "id": "c06c9e87",
   "metadata": {},
   "source": [
    "## Open Movie Database and RESTful API\n",
    "The OMDb API is a RESTful API that gives user access to movie information via a web service. It is a collaborative database as all the images and content on the website are maintain and contributed by its users.\n",
    "#### What is a RESTful API?\n",
    "Firstly, API stands for Application Programming Interface, and an API is a protocol that sets out how different applications or devices can communication with and connect to each other. A RESTful API, also called a REST API, is one that follows the Representational State Transfer architectual style's design principles. An API allows a user to interact with an application or system by helping communicate the users request in a way the system will understand. REST is not a protocol or set of rules, it is a set or architectural styles or limitations. \n",
    "When a user makes a request using a RESTful API, the API sends a representation of that request back to the user, usually in JSON format, as this format is east for both humans and computers to understand.\n",
    "There are criteria an API must meet to be considered a RESTful API. These criteria are:\n",
    "- a user-server system consisting of users, resources and services, with user requests being managed through HTTP,\n",
    "- no user information is stored between different requests and each request is treated as seperate,\n",
    "- cacheable data in order to make user-server interactions easier and faster,\n",
    "- the data must be uniform so that the requested information is easily identifiable,\n",
    "- the system architecture must be layered, meaning that requests go through different layers and neither end can tell exactly where the data goes, and\n",
    "- an optional criteria is code-on-demand, which means that in some cases, the API can return executable code to the user. This code should then only run on user demand.\n",
    "\n",
    "The OMDb API is RESTful and therefore allows the user to search its movie database through set functions and returns the results to the user in JSON format. \n",
    "\n",
    "I have used the OMDb RESTful API to create a program that sends user-input through the API, returns the relevant information and is formated in a way that is easy for the user to understand."
   ]
  },
  {
   "cell_type": "markdown",
   "id": "65cae5ec",
   "metadata": {},
   "source": [
    "# Program Introduction and Instructions"
   ]
  },
  {
   "cell_type": "markdown",
   "id": "70ca24bd",
   "metadata": {},
   "source": [
    "This program was designed to be as user friendly as possible and easy to use. If anything is unclear, refer to this section as a 'help' guide on how to use the program."
   ]
  },
  {
   "cell_type": "markdown",
   "id": "f99ef8c0",
   "metadata": {},
   "source": [
    "#### First-time user\n",
    "When the program is first run, the user will be greeted with the following: \n",
    "\n",
    "**`Welcome to Movie Search!`**\n",
    "\n",
    "`Type 'EX' at any time to close this program and 'CH' to clear your search history.`\n",
    "\n",
    "This is the first set of instructions. If at any point the user would like to exit the program they should type 'EX' into the avaiable input field, and if they would like to clear their search history, the user should type 'CH' into the field.\n",
    "Throughout this program, the user does not have to worry about whether they capitalise their responses, as long as everything is spelt correctly, the program should be able to understand.\n",
    "\n",
    "After the greeting, the first-time user will see the following: \n",
    "\n",
    "`Would you like to search for a new movie? (YES/NO):      `\n",
    "\n",
    "The user should then type either 'YES' or 'NO' into the awaiting field. A first-time user is encourages to select 'YES', as the 'NO' option opens up the users search history. A first-time user will have no search history and the following message will be displayed if they select 'NO':\n",
    "\n",
    "`You do not have a search history yet. Try searching for a new movie!`\n",
    "\n",
    "Once the new user selects 'YES', they will be promoted with the following: \n",
    "\n",
    "`What movie are you looking for:  `\n",
    "\n",
    "The user must then type in the title of the movie they would like to search for. Please be mindful of spelling during this step. \n",
    "\n",
    "If the user has entered a valid movie title, the program will display the title, year, rating, runtime, genre, director and plot. Directly after this information the user will be asked:\n",
    "\n",
    "`Would you like to know something specific about <your movie>? (YES/NO):   `\n",
    "\n",
    "This prompt refers to extracting specific information about the movie that the user might be interested in. If the user selects 'YES', they will be asked: \n",
    "\n",
    "`What would you like to know about this movie?   `\n",
    "\n",
    "The user can then ask for any of the following information to be displayed: \n",
    "- **title** (this will display the title of the movie)\n",
    "- **year** (this will display the year the movie was released)\n",
    "- **imdb_id** (this will display the numerical IMDB_ID of the movie)\n",
    "- **poster** (this will display a clickable link to a picture of the movie poster)\n",
    "- **rated** (this will display the viewer rating, e.g. 'PG', 'R')\n",
    "- **released** (this will display the specific day the movie was released)\n",
    "- **runtime** (this will display total runtime of the movie)\n",
    "- **genre** (this will display all the genres the movie falls into)\n",
    "- **director** (this will display the name of the director)\n",
    "- **actors** (this will display the main actors names)\n",
    "- **plot** (this will display a short summary of the movies plot)\n",
    "- **language** (this will display what language the movie is in)\n",
    "- **awards** (this will display any awards the movie has been nominated for and won)\n",
    "- **writer** (this will display the names of the writers)\n",
    "- **country** (this will display the country in which the film was made and released)\n",
    "- **ratings** (this will display audience ratings)\n",
    "\n",
    "Once a user has selected a search criteria, it will be displaye to them.\n",
    " \n",
    "If the user had selected 'NO' when asked if they would like to search for something specific, they will see the folloeing message: \n",
    "\n",
    "`Thank you for using Movie Search!`\n",
    "\n",
    "After either displaying the selected criteria or the thank you message, the program will restart and again prompt the user if they would like to search for a new movie. The user can then select 'EX' if they are done with the program.\n",
    "\n",
    "#### Returning user\n",
    "A returning user will have a very similar experience to a first-time user, with only a few differences. When a returning user runs the program they will be greated with: \n",
    "\n",
    "**`Welcome to Movie Search!`**\n",
    "\n",
    "`Type 'EX' at any time to close this program and 'CH' to clear your search history.`\n",
    "\n",
    "`You have already searched for:`\n",
    "*Followed by a list of titles that have been previously searched.*\n",
    "\n",
    "The user will then also see the prompt: \n",
    "\n",
    "`Would you like to search for a new movie? (YES/NO):`\n",
    "\n",
    "If a returning user selects 'YES', they must follow the same steps as previously laid out. However, if they select 'NO', they see the following displayed: \n",
    "\n",
    "`Here is your search history:` *Followed by the titles and JSON format of the movies they have already searched for*.\n",
    "\n",
    "They will then be prompted to search for another movie.\n",
    "\n",
    "If at anytime a returing user inputs 'CH' into any input field, the following message will be displayed:\n",
    "\n",
    "`Your history has been cleared.`\n",
    "\n",
    "This means that they will esentially be returning to a first-time user the next time they choose to run the program and will need to follow the first-time user instructions."
   ]
  },
  {
   "cell_type": "markdown",
   "id": "82b6a4a0",
   "metadata": {},
   "source": [
    "# Design Explaination \n",
    "In this section, I will be breaking down the code used in my program and explaining why I chose to program in the way I have. I will display the code first and have the explaination written in a cell below. "
   ]
  },
  {
   "cell_type": "code",
   "execution_count": null,
   "id": "05826583",
   "metadata": {},
   "outputs": [],
   "source": [
    "!pip install omdb"
   ]
  },
  {
   "cell_type": "markdown",
   "id": "11d01671",
   "metadata": {},
   "source": [
    "My first line of code is one of the most important. This code installs a wrapper for the omdb API that can be used in Python. 'pip' is used to manage modules brought into Python and ensures that they are usuabel. In order to gain access to the OMDb API and any of its functions, this line of code must be executed. "
   ]
  },
  {
   "cell_type": "code",
   "execution_count": null,
   "id": "c2559985",
   "metadata": {},
   "outputs": [],
   "source": [
    "import omdb\n",
    "apiKey = '62435c4d'\n",
    "omdb.set_default('apikey', apiKey)"
   ]
  },
  {
   "cell_type": "markdown",
   "id": "02abf60d",
   "metadata": {},
   "source": [
    "The first line of this cell is also very important. The `import` keyword is what allows me to use functions such as omdb.get() from the omdb module. It gives me the ability to interact with the database. \n",
    "When I chose to use the OMDb API, i had to register with them and receive an API key. An API key is mostly used for project authorisation and to help the API identify who is using it. To obtain an OMDb API, I just needed to register with their website and I received an email with my API key.\n",
    "I created the `apiKey` variable to store my API key so that if I ever needed it throughout the coding, I could recall it through the variable, rather than writing out the specific key everytime.\n",
    "The line `omdb.set_default('apikey', apiKey)` is a method used for the internal client instance to set default parameters and their values. It sets the apikey as my unique value. \n",
    "\n",
    "This line of code allows me to access and recall information from OMDb API."
   ]
  },
  {
   "cell_type": "code",
   "execution_count": null,
   "id": "c841651d",
   "metadata": {},
   "outputs": [],
   "source": [
    "from IPython.display import HTML as html_print #IPython is library for formatting in JN\n",
    "from IPython.display import display #module from library"
   ]
  },
  {
   "cell_type": "markdown",
   "id": "32ed7223",
   "metadata": {},
   "source": [
    "IPyhton stands for Interactive Python and it is a jupyter notebooks kernel and a tool to improve visualisation and interaction of notebooks. I imported `IPython.display` so that I could edit how the user sees the output presented to them. The aim of using this tool is to make the program easier to understand and appealing to look at. \n",
    "\n",
    "I imported `HTML as html_print` so that I could use colour names recognised by HTML and have them be displayed the way I wanted.  I also imported `display` so that I could get access to functions that slightly change the font of the text that is displayed to the user. \n",
    "\n",
    "These lines of code are all added to improve how the program looks to the user and to help the user understand what is being shown to them."
   ]
  },
  {
   "cell_type": "code",
   "execution_count": null,
   "id": "63d2b1d8",
   "metadata": {},
   "outputs": [],
   "source": [
    "def colour_set(s, color='black'): #use functions from ipython.display to change colour\n",
    "    return \"<text style=color:{}>{}</text>\".format(color, s)\n",
    "\n",
    "def print_colour(t):\n",
    "    display(html_print(' '.join([colour_set(ti, color=ci) for ti,ci in t])))"
   ]
  },
  {
   "cell_type": "markdown",
   "id": "576586f2",
   "metadata": {},
   "source": [
    "The above code makes use of the modules imported in the previous cell. The first line defines the function `colour_sets()`  which uses html formatting to ensure colours are read and displayed correctly. \n",
    "\n",
    "The second function `print_colour()` is used to print output in specific colours. This function makes use of the previous function to apply the html colour formatting to the specific text. This function also slightly changes the font of the output because it is displaying the text as html_print. This function takes two arguments, the actual text being printed, followed by the colour you want the text to be displayed in. "
   ]
  },
  {
   "cell_type": "code",
   "execution_count": null,
   "id": "ce675f71",
   "metadata": {},
   "outputs": [],
   "source": [
    "def movie_search(movie, number):\n",
    "    try:\n",
    "        movie_info = omdb.get(title = movie)\n",
    "        wanted_title = movie_info[\"title\"]\n",
    "        if number == \"1\": #add number so that result doesnt print twice (must not print when checking)\n",
    "            search_history = open('SearchHistorys.txt','a') #add 'utf-8' to ensure no encoding errors\n",
    "            search_history.write(str( '\\033[1m' + wanted_title + '\\033[0m') + \"\\n\") #add title on its own line\n",
    "            search_history.write('Year: ' + str(movie_info['year'])+ \", \"\n",
    "                                 'Rated: '+ str(movie_info['rated']) + \", \"\n",
    "                                 'Released: ' + str(movie_info['released']) + \", \"\n",
    "                                 'Runtime: '+ str(movie_info['runtime']) + \", \"\n",
    "                                 'Genre: ' + str(movie_info['genre']) + \", \"\n",
    "                                 'Director: '+ str(movie_info['director'])+ \", \"\n",
    "                                 'Writer: ' + str(movie_info['writer']) + \", \"\n",
    "                                 'Actors: ' + str(movie_info['actors']) + \", \"\n",
    "                                 'Plot: '+ str(movie_info['plot']) + \", \"\n",
    "                                 'Language: ' + str(movie_info['language']) + \", \"\n",
    "                                 'Country: ' + str(movie_info['country']) + \", \"\n",
    "                                 'Awards: '+ str(movie_info['awards']) + \", \"\n",
    "                                 'IMDB_ID: ' + str(movie_info['imdb_id']) + \", \"\n",
    "                                 'Poster: ' + str(movie_info['poster']) + \", \"\n",
    "                                 'Ratings: '+ str(movie_info['ratings']) + \"\\n\") #adds rest of JSON\n",
    "            search_history.close()\n",
    "            print_colour(((\"Title: \",'DarkGoldenRod'), (movie_info['title'], 'black'),))\n",
    "            print_colour((( \"Year: \", 'DarkGoldenRod'), (movie_info['year'], 'black'),))\n",
    "            print_colour(((\"Rated: \", 'DarkGoldenRod'), (movie_info['rated'], 'black'),))\n",
    "            print_colour(((\"Runtime: \",'DarkGoldenRod'), (movie_info['runtime'], 'black'),))\n",
    "            print_colour(((\"Genre: \", 'DarkGoldenRod'), (movie_info['genre'], 'black'),))\n",
    "            print_colour(((\"Director: \",'DarkGoldenRod'), (movie_info['director'], 'black'),))\n",
    "            print_colour(((\"Plot: \", 'DarkGoldenRod'), (movie_info['plot'], 'black'),)) \n",
    "        return True\n",
    "    except:\n",
    "        return False"
   ]
  },
  {
   "cell_type": "markdown",
   "id": "ae16dce0",
   "metadata": {},
   "source": [
    "The above function is one of the most important of the whole program. This is the function that performs the biggest task and basic requirements of the program. The `movie_search(movie, number)` program uses a ombd function to receive information on a movie specified by the user and then writes this information to a text file as well as displaying it back to the user in an understandable manner. This function takes two arguments, the title of the movie that is recieved from user input and a number, which will be explained shortly.\n",
    "\n",
    "Line 2 starts the function with the first leg of a `try` and `except` function. The purpose of this is to stop the program from crashing due to an error if the user does not search for a real or valid movie title. If the movie is real, it will get searched, written to the text file and shown to the user. At the end the `try` portion will return true, which will be used as a condition later in the program.\n",
    "\n",
    "In line 3, I created the variable `movie_info` to hold the information that is received from the API. This makes it easier for the information to be recalled later in the program. The `omdb.get()` function communicates with the API to receive information about the movie, from the title to its ratings on various platforms. This functions requires the parameter to be defined, so inside the brackets is `title = movie`. This specifies to the API that we are searching based on the movie title and `movie` is the user input. \n",
    "\n",
    "Line 4 defines the variable `wanted_title`. This variable is used to extract a clean string containing the title of the searched from the json dictionary that is returned from the API. This will be used to later to display only the title of the movie that was searched.\n",
    "\n",
    "Line 5 contains an if statement. This line realted to the number argument within the brackets of the function. This is necessary because later in the program(lines 21 and 22 of the main method) an if statement is used to check if this function has returned true or false, and then to print the output if it is true. However, if without differenciating the check from the print, the output displays twice. By specifing that if the number == 1, I am ensuring that the check (that has a number 0) is not ptinted. There is no else for this if statement as because if the check fails, the program should continue on to the except statement.\n",
    "\n",
    "Lines 6 to 23 contains the code to write the search details to the users history textfile. A variable is created to open the text file in append mode. This ensures that no other content in the file is written over. Next the program appends just the title to the text file, surrounded by an an ANSI escape sequence to enter the text as bold, followed by an empty line. Following that, the rest of the returned JSON data is extracted and formatted while being written to the text file. The text file is then closed.\n",
    "\n",
    "Line 24 to 30 contains multiple print_colour statements. This ensures that the text is printed in the specified colours and are neatly spaced. I selected the most relevant and useful information to be displayed to the user at first, but they can always use the specific search option to display any other information they would like to see.\n",
    "\n",
    "The last 3 lines finish up the except part of the `try and except` function. The function returns false instead of crashing if an error is detected."
   ]
  },
  {
   "cell_type": "code",
   "execution_count": null,
   "id": "6693b2a0",
   "metadata": {},
   "outputs": [],
   "source": [
    "def specific_info(movie_info_specific): \n",
    "    movie_info = omdb.get(title = new_movie)\n",
    "    print_colour(((movie_info_specific + \": \",'DarkGoldenRod'), (movie_info[movie_info_specific], 'black'),))"
   ]
  },
  {
   "cell_type": "markdown",
   "id": "a0a4a591",
   "metadata": {},
   "source": [
    "The above function is simple yet important one. This function retrieves and displayes the information when the user searches for something specific. The `movie_info` variable is the same as in the previous function and it used to retrieve the JSON of the movie. Line 3 prints the specific item from the JSON. The `print_colour` statement is used for formatting and specifies what they are looking for as they key, followed by the actual information, which is extracted from the JSON by treating it as dictionary, with the input as the criteria."
   ]
  },
  {
   "cell_type": "code",
   "execution_count": null,
   "id": "db463615",
   "metadata": {},
   "outputs": [],
   "source": [
    "def show_history(): \n",
    "    history = open('SearchHistorys.txt','r')\n",
    "    open_history = history.read()\n",
    "    display_history = (open_history)\n",
    "    print(display_history)\n",
    "    history.close()"
   ]
  },
  {
   "cell_type": "markdown",
   "id": "c25108a0",
   "metadata": {},
   "source": [
    "The above function shows the user their search history. This function opens the text file where previous search information is stored in read mode and prints the exact content to the user. The function then closes the history text file again. "
   ]
  },
  {
   "cell_type": "code",
   "execution_count": null,
   "id": "b5b85e46",
   "metadata": {},
   "outputs": [],
   "source": [
    "def show_history_titles(): \n",
    "    history = open('SearchHistorys.txt', 'r')\n",
    "    content = history.readlines()\n",
    "    if len(content) > 0:\n",
    "        print_colour((('You have already searched for: ','brown'),))\n",
    "    for i in range(0, len(content)):\n",
    "        if(i % 2 == 0):\n",
    "            print(str(content[i]).strip())\n",
    "        else:\n",
    "            pass"
   ]
  },
  {
   "cell_type": "markdown",
   "id": "d6b4412f",
   "metadata": {},
   "source": [
    "This function is used to display only the titles of the movies a returning user has already searched for. This functions starts with defining two variables. `History` opens the text file in read mode. `Content` uses the `.readlines()` method on the text file to store a list of all the lines from the text file, with each line being an item in the list.\n",
    "\n",
    "An if statement is then used to only display the message `\"You have already searched for:\"` if there is actually text in the file.\n",
    "\n",
    "After which, a `for loop` is used to cycle through and only print the contents of the list that are in an even numbered postiton (every odd line of the text file). I used the `.strip()` method to ensure the titles are shown one after another without empty lines to make it more visually appealing to the user. The for loop will ensure only the titles of the movies are displayed, as when I wrote the search history to the text file I ensured every title was on its own line, followed by its information in the next line.\n",
    "\n",
    "The `else: pass` is used to show that nothing must happen with the even positioned content."
   ]
  },
  {
   "cell_type": "code",
   "execution_count": null,
   "id": "7ff78ade",
   "metadata": {},
   "outputs": [],
   "source": [
    "def clear_history(): \n",
    "    clear_historys = open('SearchHistorys.txt','w')\n",
    "    clear_historys.close()"
   ]
  },
  {
   "cell_type": "markdown",
   "id": "a0acb947",
   "metadata": {},
   "source": [
    "This function is used when a user enters \"CH\" in order to clear their history. The text file is open in write mode, but nothing is actually written, and then the file is closed. This clears the history because python automatically deletes old text when new text is written to the file via write mode. If nothing is written, it still replaces the exsting contents of the file with nothing."
   ]
  },
  {
   "cell_type": "markdown",
   "id": "f4c7ac7f",
   "metadata": {},
   "source": [
    "### Main Method\n",
    "In the explaination below, I will be discussing the main method of the program. I will break up the code and explain it in sections. "
   ]
  },
  {
   "cell_type": "code",
   "execution_count": null,
   "id": "b118de5b",
   "metadata": {},
   "outputs": [],
   "source": [
    "print(str('\\033[1m' + \"Welcome to Movie Search!\" + '\\033[0m').strip())\n",
    "print_colour(((\"Type\",'black'), (\"'EX'\",'DarkCyan'),(\"at any time to close this program and\",'black'),(\"'CH'\",'DarkCyan'),(\"to clear your search history.\",'black'),))\n",
    "\n",
    "show_history_titles()"
   ]
  },
  {
   "cell_type": "markdown",
   "id": "2037dec0",
   "metadata": {},
   "source": [
    "These first few lines are the greeting to the user. The first print statement contains the welcome message as well as an  ANSI escape sequence (`\\033[1m` and `\\033[0m`) to format the text into bold. These characters are a standard method for formatting.\n",
    "\n",
    "Instructions are shown to the use next. I made use of the `print_colour` function to emphasize what the user should type if they would like to exit the program or clear their history.\n",
    "\n",
    "The `show_history_titles()` function is added and will display when its requirements are met."
   ]
  },
  {
   "cell_type": "code",
   "execution_count": null,
   "id": "d193aa18",
   "metadata": {},
   "outputs": [],
   "source": [
    "while True: \n",
    "    real = True\n",
    "    movie = str(input(\"Would you like to search for a new movie? (YES/NO): \")).upper()\n",
    "    if movie == \"YES\":\n",
    "        new_movie = str(input(\"What movie are you looking for: \")).title()"
   ]
  },
  {
   "cell_type": "markdown",
   "id": "fe656ce0",
   "metadata": {},
   "source": [
    "These next few lines start to get the input from the user. \n",
    "\n",
    "It starts with a `while loop`. This ensures that the program will keep running until the user chooses to exit it via the exit sequence set out in the beggining of the code.\n",
    "The line `real = True` will be used as a condition further down in the code. It ensures that the variable `real` returns true until other wise stated. This will be used later to ensure an error is not given if searching for a movie that doesn not exist.\n",
    "\n",
    "Next, the variable `movie` is created to hold the user input of whether the user is searching for a new movie or not. This string is then converted to uppercase using `.upper()`. This ensures that even if the user does not input capital letters there input can still be used in the rest of the code.\n",
    "\n",
    "An if statement is then created. The first condition is if the user inputs \"YES\" to the movie question. If the condition is met, they will be prompted with another inut question. This asks them for the title of the movie they are looking for. `New_movie` is the variable create to hold this input. `New_movie` has the `.title()` method attatched to it to make it more uniform when displayed back and to ensure the user does not need to worry about capitalisation."
   ]
  },
  {
   "cell_type": "code",
   "execution_count": null,
   "id": "d93399ef",
   "metadata": {},
   "outputs": [],
   "source": [
    "        if new_movie == \"Ch\":\n",
    "            display(html_print(\"\\n\" + \"Your history has been cleared.\" + \"\\n\"))\n",
    "            clear_history()\n",
    "            continue \n",
    "        elif new_movie == \"Ex\":\n",
    "            display(html_print(\"Thank your for using Movie Search!\"))\n",
    "            break \n",
    "        elif movie_search(new_movie, \"0\"): \n",
    "            movie_search(new_movie, \"1\")\n",
    "        else:\n",
    "            display(html_print(\"Please search for a real movie.\" + \"\\n\"))\n",
    "            real = False"
   ]
  },
  {
   "cell_type": "markdown",
   "id": "028602f7",
   "metadata": {},
   "source": [
    "The next group of code is a nested if statement. The conditions are based on the users answer to the `new_movie` question. The first condition relates to the clear history instruction from the greeting. If the user input 'CH', the text will be displayed in html font and the `clear_history()` function will run. A continue statement is then used because the 'CH' response should not break the loop, it should keep the user in the loop.\n",
    "\n",
    "The next condition is the option of the user to exit the program. If the user inputs 'EX', the goodbye text will be displayed and then a break statement is used to break out of the loop and stop the program from running.\n",
    "\n",
    "The next condition used is the `movie_search()` function. The `elif` tests if the function returns true but does not print the results because its second argument contains \"0\", and the function is set to only print if that argument contains \"1\". If the check returns True, the movie_search results should be printed out (`movie_search(new_movie,\"1\")`).\n",
    "\n",
    "The final condition is the `else`. This means if the user input is not a 'CH', 'EX' or real movie title, they will be shown text to tell them to please enter a real movie title. The `real` variable is then also changed to false to show that the movie is not real."
   ]
  },
  {
   "cell_type": "code",
   "execution_count": null,
   "id": "4e6d8bcd",
   "metadata": {},
   "outputs": [],
   "source": [
    "        if real:\n",
    "            movie_specific = str(input(\"Would you like to know something specific about \" + new_movie + \"? (YES/NO):\")).upper()      "
   ]
  },
  {
   "cell_type": "markdown",
   "id": "f39ad713",
   "metadata": {},
   "source": [
    "This code starts another if statement on the same level on as the previous one. The function of this statement is to prompt the user to start the specific search. If the `real` variable still returns as True, it means a valid movie has been searched for and the next step is to ask the user if they would like to know anything specific about the movie."
   ]
  },
  {
   "cell_type": "code",
   "execution_count": null,
   "id": "523092d0",
   "metadata": {},
   "outputs": [],
   "source": [
    "            if movie_specific == \"YES\":\n",
    "                movie_info_specific = str(input(\"What would you like to know about this movie? \")).lower()\n",
    "                if movie_info_specific == \"ch\":\n",
    "                    display(html_print(\"\\n\" + \"Your history has been cleared.\" + \"\\n\"))\n",
    "                    clear_history() \n",
    "                elif movie_info_specific == \"ex\":\n",
    "                    display(html_print(\"Thank you for using Movie Search!\"))\n",
    "                    break \n",
    "                else:\n",
    "                    try: \n",
    "                        movie_info_specific =='title'\n",
    "                        movie_info_specific == 'year'\n",
    "                        movie_info_specific == 'imdb_id'\n",
    "                        movie_info_specific == 'poster'\n",
    "                        movie_info_specific == 'rated'\n",
    "                        movie_info_specific == 'released'\n",
    "                        movie_info_specific == 'runtime'\n",
    "                        movie_info_specific == 'genre'\n",
    "                        movie_info_specific == 'director'\n",
    "                        movie_info_specific == 'actors'\n",
    "                        movie_info_specific == 'plot'\n",
    "                        movie_info_specific == 'language'\n",
    "                        movie_info_specific == 'awards'\n",
    "                        movie_info_specific == 'writer'\n",
    "                        movie_info_specific == 'country'\n",
    "                        movie_info_specific == 'ratings'\n",
    "                        specific_info(movie_info_specific)  \n",
    "                    except:\n",
    "                        display(html_print(\"\\n\" + 'Please enter a valid search requirement: (title, year, type, rated, poster, etc)' + \"\\n\"))"
   ]
  },
  {
   "cell_type": "markdown",
   "id": "d6484eb5",
   "metadata": {},
   "source": [
    "The above extract of code relates to the specific search function. The if statement in line 30 of the main method is based on the user input stored in the variable `movie_specific`. \n",
    "\n",
    "If the user chooses \"YES\" they would like to know something specific, they are then prompted with another input question stored in the variable `movie_info_specific`. This input is used as the key for extracting the information from the JSON files. This input is converted to lowercase with the `.lower()`, so that the input is uniform and can be used by fucntion.\n",
    "\n",
    "A nested if statment is then started. This is based on the variable `movie_info_specific`. The first if and elif are again the \"CH\" and \"EX\" options. These two conditions are treated the same as they were in the previous if statment.\n",
    "\n",
    "The else part contains another `try and except` to ensure that only a valid key is entered. The `try` leg contains all the valid keys that can be accepted. Line 56 then starts that the `specific_info()` function will be run if any of the above valid keys. The `except` leg displays a message to the user if they have not entered a valid key."
   ]
  },
  {
   "cell_type": "code",
   "execution_count": null,
   "id": "c9ad9e05",
   "metadata": {},
   "outputs": [],
   "source": [
    "            elif movie_specific == \"NO\":\n",
    "                display(html_print(\"\\n\" + \"Thank you for using Movie Search!\" + \"\\n\"))\n",
    "                \n",
    "            elif movie_specific == \"CH\":\n",
    "                display(html_print(\"\\n\" + \"Your history has been cleared.\" + \"\\n\"))\n",
    "                clear_history() \n",
    "            elif movie_specific == \"EX\":\n",
    "                display(html_print(\"Thank you for using Movie Search!\"))\n",
    "                break\n",
    "                \n",
    "            else:\n",
    "                display(html_print(\"\\n\" + \"Please enter Yes or No.\" + \"\\n\"))"
   ]
  },
  {
   "cell_type": "markdown",
   "id": "b65ab035",
   "metadata": {},
   "source": [
    "The above group of code is the rest of the if statement based on the users answer stored in the `movie_specific` variable. If the use chose \"NO\" they would not like to know anything specific, a message will display and the loop will start again as there is no `break` in the code.\n",
    "\n",
    "The following two `elif`s are again the \"CH\" and \"EX\" options. These two conditions are treated the same as they were in the previous if statment. \n",
    "\n",
    "The final `else` is for when a user types neither yes nor no, EX nor CH. A message will display asking them to please enter yes or no. "
   ]
  },
  {
   "cell_type": "code",
   "execution_count": null,
   "id": "1bd3cbb0",
   "metadata": {},
   "outputs": [],
   "source": [
    "    elif movie == \"NO\":\n",
    "        history = open('SearchHistorys.txt', 'r')\n",
    "        content = history.readlines()\n",
    "        if len(content) > 0: \n",
    "            display(html_print(\"\\n\" + \"Here is your search history: \" + \"\\n\"))\n",
    "            show_history()\n",
    "        else:\n",
    "            display(html_print(\"\\n\" + \"You do not have a search history yet. Try searching for a new movie! \" + \"\\n\"))"
   ]
  },
  {
   "cell_type": "markdown",
   "id": "fb6df93f",
   "metadata": {},
   "source": [
    "The code above is the next if condition based on the user input stored in the `movie` variable. If the user chose \"NO\" they would not like to search for a new movie, a new nested if statement would be started.\n",
    "\n",
    "The two variables within the `elif` define the same variables from the `show_history_titles()` so that they can be used in the same way.\n",
    "The if condition is met, it will check if the length of `content` variable is greater than 0. If it is greater than 0 it means the text file contains text and the user has already searched for a movie and a history has been saved. If this condition is true, the program will print out their search history from their text file via the `show_history()` function.\n",
    "\n",
    "Else, if the text file is equal to 0, it means the text file is empty and the user has no search history. In that case, a message will display to the user stating they have no history."
   ]
  },
  {
   "cell_type": "code",
   "execution_count": null,
   "id": "724df3b3",
   "metadata": {},
   "outputs": [],
   "source": [
    "    elif movie == \"CH\":\n",
    "        display(html_print(\"\\n\" + \"Your history has been cleared.\" + \"\\n\"))\n",
    "        clear_history()\n",
    "    elif movie == \"EX\":\n",
    "        display(html_print(\"Thank your for using Movie Search!\"))\n",
    "        break\n",
    "        \n",
    "    else:\n",
    "        display(html_print(\"\\n\" + \"Please enter Yes or No.\" + \"\\n\"))  "
   ]
  },
  {
   "cell_type": "markdown",
   "id": "de1177e0",
   "metadata": {},
   "source": [
    "These last lines of the main method are the rest of the if statements based on the `movie` variable. \n",
    "\n",
    "The first two `elif`s of this extract are again the \"CH\" and \"EX\" options. These two conditions are treated the same as they were in the previous if statment. \n",
    "\n",
    "The final `else` is for when a user types neither yes nor no, EX nor CH. A message will display asking them to please enter yes or no. "
   ]
  },
  {
   "cell_type": "markdown",
   "id": "54fd9c3a",
   "metadata": {},
   "source": [
    "# Reflection\n",
    "This project was challenging and stimulating. It required me to think outside of what I already new and further my own knowledge through research and then implementation. There were many aspects that proved to be difficult to execute in the way I wanted, but I mostly managed to overcome these. The process was frustrating but the end result was rewarding. "
   ]
  },
  {
   "cell_type": "markdown",
   "id": "77f75d24",
   "metadata": {},
   "source": [
    "### Problems encountered\n",
    "The first issue I experienced was finding a starting point. As someone with little coding experience before this module, I initially struggled with formulating how I could make the code output what I wanted, they way I wanted. At first, I was overwhelmed by how much I thought I did not know. The way I overcame this was by starting with a very basic program. I knew I needed to receive user input, so I started by determining what I would ask the user and how I would like them to respond. From there I used the OMDb API documentation to figure out how I could get the information I needed. Once I had determined those aspects, the program started to build fairly quickly. From my starting point I had to determine how to write to and read text from the text file. To understand how to do this, I read over the textbook and reviewed lecture material. \n",
    "\n",
    "The next obstacle I encountered had to do with how I should treat errors. I knew I had to use `try and except` functions, but it was difficult to determine where they should go. Through trial and error and rerunning my program, I was able to get the program to run without errors from the OMDb API. Next, I had to think of how to counteract user error, such as if the user did not enter 'yes or no' in a 'yes or no' field. I used nested if functions to enter the program would still run with user error.\n",
    "\n",
    "My next problem came with trying to determine how to keep the program running and for it not to stop before the user was ready. I used a `while loop` to keep the program running for the user. However, the loop cannot be infinite and must cose if the user does want it to. This meant determining where to put `breaks` to close the program at the right prompt.\n",
    "\n",
    "The next task I wanted to accomplish was displaying the output in a way that is visually appealing and easy for the user to understand. I made use of \"\\n\" to create new lines and imported html formatting to improve this. I also had to figure out how to write the search history to the text file in a way that would return in the same manner as the rest of the outputs. I also used ANSI escape sequences to emphasise certain parts of the information.\n",
    "\n",
    "I did not make use of object-oriented programming because I struggled to understand how it could be implemented into the project.\n",
    "\n",
    "An issue I experienced towards the end of this project wad dealing with an encoding error with my text file. This error caused the program not to be able to write to the text file. I fixed this error by adding a line of code to the variable that appends the search information to the text file. Howver, this later proved to create more issues and has since been removed."
   ]
  },
  {
   "cell_type": "markdown",
   "id": "7e2b7d38",
   "metadata": {},
   "source": [
    "### Possible improvements\n",
    "There are a few things I would have liked to have improved on with more time and resource available to me.\n",
    "- I would like the program to generate a text file when needed instead of having one permanantly in the same folder as the program;\n",
    "- I would like the program to not duplicate movies in the users search history. At the moment, if a user searches the same movie twice, it will be entered in their history twice;\n",
    "* I would have liked to have made the program pick up from where a user made an error, rather than restarting completely. For example, currently if user does not enter a valid key for the specific search, the program starts over and asks them if they would like to search for a new movie. Instead, I would like to have the program to reask the specific search questions;\n",
    "* I would have liked to have used object-oriented programing and pandas to improve the complexibility and understandabilty of the code and output.\n"
   ]
  },
  {
   "cell_type": "code",
   "execution_count": null,
   "id": "2a810f66",
   "metadata": {},
   "outputs": [],
   "source": []
  }
 ],
 "metadata": {
  "kernelspec": {
   "display_name": "Python 3 (ipykernel)",
   "language": "python",
   "name": "python3"
  },
  "language_info": {
   "codemirror_mode": {
    "name": "ipython",
    "version": 3
   },
   "file_extension": ".py",
   "mimetype": "text/x-python",
   "name": "python",
   "nbconvert_exporter": "python",
   "pygments_lexer": "ipython3",
   "version": "3.9.7"
  }
 },
 "nbformat": 4,
 "nbformat_minor": 5
}
